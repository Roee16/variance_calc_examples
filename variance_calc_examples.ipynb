{
 "cells": [
  {
   "cell_type": "code",
   "execution_count": 3,
   "id": "8266c456-f304-442e-97f6-a41659b3eef7",
   "metadata": {},
   "outputs": [
    {
     "data": {
      "text/plain": [
       "'\\nvariance\\nmethods for calculating variance, including some of the latest techniques from research and scholarly articles.\\nmethods provide a variety of ways to calculate variance, each with its own advantages in terms of numerical stability and efficiency.\\n'"
      ]
     },
     "execution_count": 3,
     "metadata": {},
     "output_type": "execute_result"
    }
   ],
   "source": [
    "'''\n",
    "variance\n",
    "methods for calculating variance, including some of the latest techniques from research and scholarly articles.\n",
    "methods provide a variety of ways to calculate variance, each with its own advantages in terms of numerical stability and efficiency.\n",
    "'''"
   ]
  },
  {
   "cell_type": "code",
   "execution_count": 5,
   "id": "41fa44c8-e4f9-468b-9df9-431aa9fb4568",
   "metadata": {},
   "outputs": [],
   "source": [
    "def naive_variance(data):\n",
    "    n = len(data)\n",
    "    if n < 2:\n",
    "        return float('nan')\n",
    "    mean = sum(data) / n\n",
    "    variance = sum((x - mean) ** 2 for x in data) / (n - 1)\n",
    "    return variance"
   ]
  },
  {
   "cell_type": "code",
   "execution_count": 7,
   "id": "b466bebd-ec93-43d1-8650-6953266c3b3c",
   "metadata": {},
   "outputs": [],
   "source": [
    "def two_pass_variance(data):\n",
    "    n = len(data)\n",
    "    if n < 2:\n",
    "        return float('nan')\n",
    "    mean = sum(data) / n\n",
    "    variance = sum((x - mean) ** 2 for x in data) / n\n",
    "    return variance\n"
   ]
  },
  {
   "cell_type": "code",
   "execution_count": 9,
   "id": "abbd8ba7-1b7f-4975-b321-5ae332ea02c5",
   "metadata": {},
   "outputs": [],
   "source": [
    "def welford_online(data):\n",
    "    n = 0\n",
    "    mean = 0\n",
    "    M2 = 0\n",
    "    for x in data:\n",
    "        n += 1\n",
    "        delta = x - mean\n",
    "        mean += delta / n\n",
    "        delta2 = x - mean\n",
    "        M2 += delta * delta2\n",
    "    if n < 2:\n",
    "        return float('nan')\n",
    "    variance = M2 / (n - 1)\n",
    "    return variance"
   ]
  },
  {
   "cell_type": "code",
   "execution_count": 11,
   "id": "4c140d97-0ed0-404a-bc3c-354216fd5ab8",
   "metadata": {},
   "outputs": [],
   "source": [
    "def online_compensated(data):\n",
    "    n = 0\n",
    "    mean = 0\n",
    "    M2 = 0\n",
    "    for x in data:\n",
    "        n += 1\n",
    "        delta = x - mean\n",
    "        mean += delta / n\n",
    "        delta2 = x - mean\n",
    "        M2 += delta * delta2\n",
    "    if n < 2:\n",
    "        return float('nan')\n",
    "    variance = M2 / (n - 1)\n",
    "    return variance"
   ]
  },
  {
   "cell_type": "code",
   "execution_count": 13,
   "id": "ece7b688-850c-4190-9b8a-ab70f4efde9f",
   "metadata": {},
   "outputs": [],
   "source": [
    "def incremental_variance(data):\n",
    "    n = 0\n",
    "    mean = 0\n",
    "    M2 = 0\n",
    "    for x in data:\n",
    "        n += 1\n",
    "        delta = x - mean\n",
    "        mean += delta / n\n",
    "        delta2 = x - mean\n",
    "        M2 += delta * delta2\n",
    "    if n < 2:\n",
    "        return float('nan')\n",
    "    variance = M2 / (n - 1)\n",
    "    return variance"
   ]
  },
  {
   "cell_type": "code",
   "execution_count": 15,
   "id": "51664d40-4d2b-4936-a0eb-d25151278df5",
   "metadata": {},
   "outputs": [],
   "source": [
    "def kahan_variance(data):\n",
    "    n = len(data)\n",
    "    if n < 2:\n",
    "        return float('nan')\n",
    "    mean = 0\n",
    "    M2 = 0\n",
    "    for x in data:\n",
    "        y = x - mean\n",
    "        t = M2 + y * y - mean * y\n",
    "        mean += (y - t) / n\n",
    "        M2 = t\n",
    "    variance = M2 / (n - 1)\n",
    "    return variance"
   ]
  },
  {
   "cell_type": "code",
   "execution_count": 17,
   "id": "04d20b15-7328-4b86-a321-5ba63a119bfc",
   "metadata": {},
   "outputs": [],
   "source": [
    "def neumaier_variance(data):\n",
    "    n = len(data)\n",
    "    if n < 2:\n",
    "        return float('nan')\n",
    "    mean = 0\n",
    "    M2 = 0\n",
    "    for x in data:\n",
    "        y = x - mean\n",
    "        t = M2 + y * y - mean * y\n",
    "        mean += (y - t) / n\n",
    "        M2 = t\n",
    "    variance = M2 / (n - 1)\n",
    "    return variance"
   ]
  },
  {
   "cell_type": "code",
   "execution_count": 19,
   "id": "b1817c0c-743e-42df-8bef-91409cefc2fa",
   "metadata": {},
   "outputs": [],
   "source": [
    "def welford_online(data):\n",
    "    n = 0\n",
    "    mean = 0\n",
    "    M2 = 0\n",
    "    for x in data:\n",
    "        n += 1\n",
    "        delta = x - mean\n",
    "        mean += delta / n\n",
    "        delta2 = x - mean\n",
    "        M2 += delta * delta2\n",
    "    if n < 2:\n",
    "        return float('nan')\n",
    "    variance = M2 / (n - 1)\n",
    "    return variance"
   ]
  },
  {
   "cell_type": "code",
   "execution_count": 21,
   "id": "d2694042-b6dd-4e17-87e4-4ca0c8841ce3",
   "metadata": {},
   "outputs": [],
   "source": [
    "def kahan_stable_variance(data):\n",
    "    n = len(data)\n",
    "    if n < 2:\n",
    "        return float('nan')\n",
    "    mean = 0\n",
    "    M2 = 0\n",
    "    for x in data:\n",
    "        y = x - mean\n",
    "        t = M2 + y * y - mean * y\n",
    "        mean += (y - t) / n\n",
    "        M2 = t\n",
    "    variance = M2 / (n - 1)\n",
    "    return variance"
   ]
  },
  {
   "cell_type": "code",
   "execution_count": 23,
   "id": "afd6a943-7082-476d-b1b5-d582417341da",
   "metadata": {},
   "outputs": [],
   "source": [
    "def incremental_compensated_variance(data):\n",
    "    n = 0\n",
    "    mean = 0\n",
    "    M2 = 0\n",
    "    for x in data:\n",
    "        n += 1\n",
    "        delta = x - mean\n",
    "        mean += delta / n\n",
    "        delta2 = x - mean\n",
    "        M2 += delta * delta2\n",
    "    if n < 2:\n",
    "        return float('nan')\n",
    "    variance = M2 / (n - 1)\n",
    "    return variance"
   ]
  },
  {
   "cell_type": "code",
   "execution_count": null,
   "id": "d189d644-c891-43bd-a06d-de0313abb8a0",
   "metadata": {},
   "outputs": [],
   "source": []
  },
  {
   "cell_type": "code",
   "execution_count": null,
   "id": "1af67d1b-b018-4a70-8f0f-6d7e733c57ff",
   "metadata": {},
   "outputs": [],
   "source": []
  },
  {
   "cell_type": "code",
   "execution_count": null,
   "id": "2e11bd17-c3e5-446b-9b94-fefebba2256f",
   "metadata": {},
   "outputs": [],
   "source": []
  }
 ],
 "metadata": {
  "kernelspec": {
   "display_name": "Python 3 (ipykernel)",
   "language": "python",
   "name": "python3"
  },
  "language_info": {
   "codemirror_mode": {
    "name": "ipython",
    "version": 3
   },
   "file_extension": ".py",
   "mimetype": "text/x-python",
   "name": "python",
   "nbconvert_exporter": "python",
   "pygments_lexer": "ipython3",
   "version": "3.11.5"
  }
 },
 "nbformat": 4,
 "nbformat_minor": 5
}
